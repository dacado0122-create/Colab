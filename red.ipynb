{
  "nbformat": 4,
  "nbformat_minor": 0,
  "metadata": {
    "colab": {
      "provenance": [],
      "authorship_tag": "ABX9TyOVsoLu3CzsA5ghQvrwnvHG",
      "include_colab_link": true
    },
    "kernelspec": {
      "name": "python3",
      "display_name": "Python 3"
    },
    "language_info": {
      "name": "python"
    }
  },
  "cells": [
    {
      "cell_type": "markdown",
      "metadata": {
        "id": "view-in-github",
        "colab_type": "text"
      },
      "source": [
        "<a href=\"https://colab.research.google.com/github/dacado0122-create/Colab/blob/main/red.ipynb\" target=\"_parent\"><img src=\"https://colab.research.google.com/assets/colab-badge.svg\" alt=\"Open In Colab\"/></a>"
      ]
    },
    {
      "cell_type": "code",
      "execution_count": 29,
      "metadata": {
        "colab": {
          "base_uri": "https://localhost:8080/"
        },
        "id": "FJWcsJdg-3hX",
        "outputId": "6d76fab0-12b4-4534-f97e-0c86d08d3b71"
      },
      "outputs": [
        {
          "output_type": "stream",
          "name": "stdout",
          "text": [
            "Época 0, pérdida = 0.293431\n",
            "Época 200, pérdida = 0.042700\n",
            "Época 400, pérdida = 0.041551\n",
            "Época 600, pérdida = 0.040204\n",
            "Época 800, pérdida = 0.038624\n",
            "Época 1000, pérdida = 0.036783\n",
            "Época 1200, pérdida = 0.034678\n",
            "Época 1400, pérdida = 0.032341\n",
            "Época 1600, pérdida = 0.029841\n",
            "Época 1800, pérdida = 0.027282\n",
            "\n",
            "Entrada (x³): 8.0\n",
            "Predicción (x): 1.14922034740448\n",
            "Valor real (x): 2.0\n"
          ]
        }
      ],
      "source": [
        "import torch\n",
        "import torch.nn as nn\n",
        "\n",
        "# Datos\n",
        "x = torch.linspace(-1, 1, 700).unsqueeze(1)   # valores originales\n",
        "y = x ** 3                                    # valores de la función directa (x³)\n",
        "\n",
        "#  Ahora invertimos: queremos que la red aprenda x = f⁻¹(y)\n",
        "entrada  = y\n",
        "salida = x\n",
        "\n",
        "# Red neuronal simple\n",
        "model = nn.Sequential(\n",
        "    nn.Linear(1, 80),\n",
        "    nn.Tanh(),\n",
        "    nn.Linear(80, 60),\n",
        "    nn.Tanh(),\n",
        "    nn.Linear(60, 80),\n",
        "    nn.Tanh(),\n",
        "    nn.Linear(80, 1)\n",
        ")\n",
        "\n",
        "# Función de pérdida y optimizador\n",
        "FP = nn.MSELoss()\n",
        "optimizador = torch.optim.SGD(model.parameters(), lr=0.01)\n",
        "\n",
        "# Entrenamiento\n",
        "for epoch in range(2000):\n",
        "    entradas = model(entrada )       # predice x a partir de y\n",
        "    perdida = FP(entradas, salida)\n",
        "\n",
        "    optimizador.zero_grad()\n",
        "    perdida.backward()\n",
        "    optimizador.step()\n",
        "\n",
        "    if epoch % 200 == 0:\n",
        "        print(f\"Época {epoch}, pérdida = {perdida.item():.6f}\")\n",
        "\n",
        "# 🔍 Prueba\n",
        "test_y = torch.tensor([[8.0]])   # entrada = y = x³ = 8\n",
        "pred_x = model(test_y)\n",
        "print(\"\\nEntrada (x³):\", test_y.item())\n",
        "print(\"Predicción (x):\", pred_x.item())\n",
        "print(\"Valor real (x):\", test_y.item() ** (1/3))\n"
      ]
    },
    {
      "cell_type": "markdown",
      "source": [
        "**para la funcion  x2**  \n",
        "=="
      ],
      "metadata": {
        "id": "nSeMvZrYHUDG"
      }
    },
    {
      "cell_type": "code",
      "source": [
        "import torch\n",
        "import torch.nn as nn\n",
        "import torch.optim as optim\n",
        "import matplotlib.pyplot as plt\n",
        "\n",
        "\n",
        "#  Datos: solo x positivos\n",
        "\n",
        "x = torch.linspace(0, 5, 200).unsqueeze(1)  # x >= 0\n",
        "y = x ** 2                                  # y = x^2\n",
        "\n",
        "\n",
        "#  Definir la red\n",
        "\n",
        "class InverseNet(nn.Module):\n",
        "    def __init__(self):\n",
        "        super(InverseNet, self).__init__()\n",
        "        self.fc1 = nn.Linear(1, 32)\n",
        "        self.fc2 = nn.Linear(32, 32)\n",
        "        self.fc3 = nn.Linear(32, 1)\n",
        "        self.act = nn.Tanh()  # activación no lineal\n",
        "\n",
        "    def forward(self, y):\n",
        "        out = self.fc1(y)\n",
        "        out = self.act(out)\n",
        "        out = self.fc2(out)\n",
        "        out = self.act(out)\n",
        "        out = self.fc3(out)\n",
        "        return out\n",
        "\n",
        "\n",
        "# 3. Crear el modelo, criterio y optimizador\n",
        "\n",
        "model = InverseNet()\n",
        "criterion = nn.MSELoss()\n",
        "optimizer = optim.SGD(model.parameters(), lr=0.01)\n",
        "\n",
        "\n",
        "# 4. Entrenamiento\n",
        "\n",
        "epochs = 1500\n",
        "for epoch in range(epochs):\n",
        "    # Predicción\n",
        "    x_pred = model(y)\n",
        "\n",
        "    # Calcular pérdida (error cuadrático)\n",
        "    loss = criterion(x_pred, x)\n",
        "\n",
        "    # Gradiente descendente\n",
        "    optimizer.zero_grad()\n",
        "    loss.backward()\n",
        "    optimizer.step()\n",
        "\n",
        "    if (epoch + 1) % 200 == 0:\n",
        "        print(f\"Época {epoch+1}/{epochs} - Pérdida: {loss.item():.6f}\")\n",
        "\n",
        "\n",
        "# 5. Evaluación\n",
        "\n",
        "y_test = torch.tensor([[0.25], [1.0], [4.0], [9.0], [16.0], [25.0]])\n",
        "x_real = torch.sqrt(y_test)\n",
        "x_pred = model(y_test)\n",
        "\n",
        "print(\"\\nResultados:\")\n",
        "print(\"   y       √y (real)     predicción de la red\")\n",
        "for i in range(len(y_test)):\n",
        "    print(f\"{y_test[i].item():6.2f}     {x_real[i].item():8.4f}         {x_pred[i].item():8.4f}\")\n",
        "\n",
        "\n",
        "# 6. Visualizar resultados\n",
        "\n",
        "y_plot = torch.linspace(0, 25, 200).unsqueeze(1)\n",
        "x_real_plot = torch.sqrt(y_plot)\n",
        "x_nn_plot = model(y_plot).detach()\n",
        "\n",
        "plt.figure(figsize=(6,4))\n",
        "plt.plot(y_plot, x_real_plot, label=\"√y (real)\")\n",
        "plt.plot(y_plot, x_nn_plot, label=\"Red neuronal\", linestyle='--')\n",
        "plt.xlabel(\"y\")\n",
        "plt.ylabel(\"x (predicho)\")\n",
        "plt.title(\"Aprendiendo la inversa de f(x)=x² para x>0\")\n",
        "plt.legend()\n",
        "plt.grid(True)\n",
        "plt.show()\n"
      ],
      "metadata": {
        "id": "shss67TDHl1r",
        "colab": {
          "base_uri": "https://localhost:8080/",
          "height": 688
        },
        "collapsed": true,
        "outputId": "b2ae5a14-c9fb-4314-9da0-4307aba34c08"
      },
      "execution_count": 32,
      "outputs": [
        {
          "output_type": "stream",
          "name": "stdout",
          "text": [
            "Época 200/1500 - Pérdida: 0.010592\n",
            "Época 400/1500 - Pérdida: 0.002661\n",
            "Época 600/1500 - Pérdida: 0.001860\n",
            "Época 800/1500 - Pérdida: 0.003583\n",
            "Época 1000/1500 - Pérdida: 0.003462\n",
            "Época 1200/1500 - Pérdida: 0.004592\n",
            "Época 1400/1500 - Pérdida: 0.004447\n",
            "\n",
            "Resultados:\n",
            "   y       √y (real)     predicción de la red\n",
            "  0.25       0.5000           0.4272\n",
            "  1.00       1.0000           0.9877\n",
            "  4.00       2.0000           1.9578\n",
            "  9.00       3.0000           2.9291\n",
            " 16.00       4.0000           3.9591\n",
            " 25.00       5.0000           4.8212\n"
          ]
        },
        {
          "output_type": "display_data",
          "data": {
            "text/plain": [
              "<Figure size 600x400 with 1 Axes>"
            ],
            "image/png": "[encoded data removed]"
          },
          "metadata": {}
        }
      ]
    },
    {
      "cell_type": "code",
      "source": [],
      "metadata": {
        "id": "ei8YyQRtoZj0"
      },
      "execution_count": null,
      "outputs": []
    },
    {
      "cell_type": "code",
      "execution_count": 39,
      "metadata": {
        "colab": {
          "base_uri": "https://localhost:8080/"
        },
        "outputId": "fcb60482-90dc-499d-926e-6b1ee734f9a3",
        "id": "ko-PLYShof84"
      },
      "outputs": [
        {
          "output_type": "stream",
          "name": "stdout",
          "text": [
            "Época 0, pérdida = 0.364462\n",
            "Época 200, pérdida = 0.048593\n",
            "Época 400, pérdida = 0.046416\n",
            "Época 600, pérdida = 0.046007\n",
            "Época 800, pérdida = 0.045583\n",
            "Época 1000, pérdida = 0.045140\n",
            "Época 1200, pérdida = 0.044677\n",
            "Época 1400, pérdida = 0.044191\n",
            "Época 1600, pérdida = 0.043679\n",
            "Época 1800, pérdida = 0.043139\n",
            "\n",
            "Entrada (x³): 8.0\n",
            "Predicción (x): 2.160970687866211\n",
            "Valor real (x): 2.0\n"
          ]
        }
      ],
      "source": [
        "import torch\n",
        "import torch.nn as nn\n",
        "\n",
        "# Datos\n",
        "x = torch.linspace(-1, 1, 700).unsqueeze(1)   # valores originales\n",
        "y = x ** 3                                    # valores de la función directa (x³)\n",
        "\n",
        "#  Ahora invertimos: queremos que la red aprenda x = f⁻¹(y)\n",
        "entrada  = y\n",
        "salida = x\n",
        "\n",
        "# Red neuronal simple\n",
        "\n",
        "class InverseNet(nn.Module):\n",
        "    def __init__(self):\n",
        "        super(InverseNet, self).__init__()\n",
        "        self.fc1 = nn.Linear(1, 32)\n",
        "        self.fc2 = nn.Linear(32, 32)\n",
        "        self.fc3 = nn.Linear(32, 1)\n",
        "        self.act = nn.Tanh()  # activación no lineal\n",
        "\n",
        "    def forward(self, entrada):\n",
        "        out = self.fc1(entrada)\n",
        "        out = self.act(out)\n",
        "        out = self.fc2(out)\n",
        "        out = self.act(out)\n",
        "        out = self.fc3(out)\n",
        "        return out\n",
        "\n",
        "# Función de pérdida y optimizador\n",
        "model = InverseNet()\n",
        "FP = nn.MSELoss()\n",
        "optimizador = torch.optim.SGD(model.parameters(), lr=0.01)\n",
        "\n",
        "# Entrenamiento\n",
        "for epoch in range(2000):\n",
        "    entradas = model(entrada)       # predice x a partir de y\n",
        "    perdida = FP(entradas, salida)\n",
        "\n",
        "    optimizador.zero_grad()\n",
        "    perdida.backward()\n",
        "    optimizador.step()\n",
        "\n",
        "    if epoch % 200 == 0:\n",
        "        print(f\"Época {epoch}, pérdida = {perdida.item():.6f}\")\n",
        "\n",
        "# 🔍 Prueba\n",
        "test_y = torch.tensor([[8.0]])   # entrada = y = x³ = 8\n",
        "pred_x = model(test_y)\n",
        "print(\"\\nEntrada (x³):\", test_y.item())\n",
        "print(\"Predicción (x):\", pred_x.item())\n",
        "print(\"Valor real (x):\", test_y.item() ** (1/3))\n"
      ]
    }
  ]
}