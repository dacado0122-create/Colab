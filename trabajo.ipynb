{
  "cells": [
    {
      "cell_type": "markdown",
      "metadata": {
        "id": "view-in-github",
        "colab_type": "text"
      },
      "source": [
        "<a href=\"https://colab.research.google.com/github/dacado0122-create/Colab/blob/main/trabajo.ipynb\" target=\"_parent\"><img src=\"https://colab.research.google.com/assets/colab-badge.svg\" alt=\"Open In Colab\"/></a>"
      ]
    },
    {
      "cell_type": "code",
      "source": [
        "import numpy as np\n",
        "\n",
        "#   Datos de entrada\n",
        "# Supongamos 4 entradas\n",
        "entrada = input(\"ingresa 4 numeros  separados por comas:\")\n",
        "X = np.array([float(i) for i in entrada.split(\",\")]).reshape(1,4)\n",
        "\n",
        "#    pesos y sesgos\n",
        "# Capa 1: 4 entradas → 2 neuronas\n",
        "W1 = np.random.randn(4,2)   # matriz (2x4)\n",
        "b1 = np.random.randn(1,2)      # vector (2,)\n",
        "\n",
        "# Capa 2: 2 entradas → 3 neuronas\n",
        "W2 = np.random.randn(2,3)   # matriz (3x2)\n",
        "b2 = np.random.randn(1,3)      # vector (3,)\n",
        "\n",
        "# Capa 3: 3 entradas → 2 neuronas (salida)\n",
        "W3 = np.random.randn(3,2)   # matriz (2x3)\n",
        "b3 = np.random.randn(1,2)      # vector (2,)\n",
        "\n",
        "#   Función de activación\n",
        "def relu(x):\n",
        "    \"\"\"Función ReLU: max(0, x)\"\"\"\n",
        "    return np.maximum(0, x)\n",
        "\n",
        "\n",
        "\n",
        "#   (propagación hacia adelante)\n",
        "# Capa 1: z1 = W1·X + b1\n",
        "z1 = np.dot(X, W1) + b1\n",
        "a1 = relu(z1)\n",
        "\n",
        "# Capa 2: z2 = W2·a1 + b2\n",
        "z2 = np.dot(a1, W2) + b2\n",
        "a2 = relu(z2)\n",
        "\n",
        "# Capa 3: z3 = W3·a2 + b3\n",
        "z3 = np.dot(a2, W3) + b3\n",
        "a3 = relu(z3)\n",
        "\n",
        "# Mostrar resultados\n",
        "print(\"Entrada X:\", X)\n",
        "print(\"\\nSalida capa 1 (a1):\", a1)\n",
        "print(\"Salida capa 2 (a2):\", a2)\n",
        "print(\"Salida capa 3 (a3):\", a3)\n",
        "print(\"\\nSalida final de la red:\", a3)"
      ],
      "metadata": {
        "colab": {
          "base_uri": "https://localhost:8080/"
        },
        "id": "Ood-i-Ij-_Ew",
        "outputId": "0da9e7e1-56c3-415a-e876-99d07af7a13a"
      },
      "id": "Ood-i-Ij-_Ew",
      "execution_count": 25,
      "outputs": [
        {
          "output_type": "stream",
          "name": "stdout",
          "text": [
            "ingresa 4 numeros  separados por comas:2,3,4,5\n",
            "Entrada X: [[2. 3. 4. 5.]]\n",
            "\n",
            "Salida capa 1 (a1): [[5.15153472 0.        ]]\n",
            "Salida capa 2 (a2): [[7.13060369 0.         0.        ]]\n",
            "Salida capa 3 (a3): [[5.34798828 0.        ]]\n",
            "\n",
            "Salida final de la red: [[5.34798828 0.        ]]\n"
          ]
        }
      ]
    }
  ],
  "metadata": {
    "colab": {
      "provenance": [],
      "include_colab_link": true
    },
    "language_info": {
      "name": "python"
    },
    "kernelspec": {
      "name": "python3",
      "display_name": "Python 3"
    }
  },
  "nbformat": 4,
  "nbformat_minor": 5
}